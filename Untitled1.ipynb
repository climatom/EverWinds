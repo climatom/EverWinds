{
 "cells": [
  {
   "cell_type": "markdown",
   "metadata": {},
   "source": [
    "# Introduction¶\n",
    "< Place holder >"
   ]
  },
  {
   "cell_type": "code",
   "execution_count": null,
   "metadata": {},
   "outputs": [],
   "source": [
    "# Imports and parameters\n",
    "\n",
    "%matplotlib inline \n",
    "import xarray as xr, pandas as pd, numpy as np, matplotlib.pyplot as plt, datetime, GeneralFunctions as GF\n",
    "from sklearn import linear_model\n",
    "from matplotlib.pyplot import cm\n",
    "from numba import jit\n",
    "from scipy import stats\n",
    "import matplotlib.dates as mdates\n",
    "import GeneralFunctions as GF\n",
    "import seaborn as sns\n",
    "import statsmodels.api as sm\n",
    "from windrose import WindroseAxes\n",
    "\n",
    "\n",
    "# # Manual inspection suggests dubious data quality during this period\n",
    "st=datetime.datetime(year=2019,month=12,day=27,hour=17)\n",
    "stp=datetime.datetime(year=2020,month=1,day=2,hour=6)\n",
    "\n",
    "# Should limit all data to this period\n",
    "stp_gl=datetime.datetime(year=2020,month=1,day=5,hour=11)\n",
    "\n",
    "thresh=1 # Filter out hourly-mean winds < this value"
   ]
  },
  {
   "cell_type": "code",
   "execution_count": null,
   "metadata": {},
   "outputs": [],
   "source": [
    "# Import the reanalysis\n",
    "fr=\"/home/lunet/gytm3/Everest2019/Forecasting/NG/Logging/fclog_new_South_Col.txt\"\n",
    "r=pd.read_csv(fr)\n",
    "o=o.loc[o.index<=stp_gl]\n",
    "uf=r[\"u\"]\n",
    "vf=r[\"v\"]\n",
    "dt=\n",
    "wsf=(uf**2+vf**2)**0.2\n",
    "\n",
    "\n",
    "# Ditto observations -- incl. filtering and alocation\n",
    "fo=\"/home/lunet/gytm3/Everest2019/AWS/Logging/south_col.csv\"\n",
    "o=pd.read_csv(fo,parse_dates=True,index_col=0)\n",
    "for i in o.columns: o[i]=o[i].astype(np.float)\n",
    "o=o.loc[o.index<=stp_gl]\n",
    "u=o[\"WS_AVG_2\"]\n",
    "ug=o[\"WS_MAX_2\"]\n",
    "t=o[\"T_HMP\"]\n",
    "p=o[\"PRESS\"]\n",
    "idx=np.logical_and(u>thresh,ug>thresh) # very minimal filter that removes wind during v. slack conditions\n",
    "idx=np.logical_and(idx,~np.logical_and(u.index>=st,u.index<=stp))\n",
    "print(\"Keeping %.1f%% of data\"%((np.sum(idx)/np.float(len(idx)))*100))\n",
    "u.values[~idx]=np.nan\n",
    "ug.values[~idx]=np.nan\n",
    "wdir_short=o[\"WDIR\"]#Take these because wdir from second sensor not working\n",
    "u_short=o[\"WS_AVG\"] # Ditto -- and expanded: needed for wind rose\n",
    "idx=np.logical_and(u_short.index<datetime.datetime(year=2019,month=12,day=15),u_short>thresh) \n",
    "u_short=u_short.loc[idx]\n",
    "wdir_short=wdir_short.loc[idx]\n",
    "\n",
    "# Extract overlapping reanalysis wind\n",
    "ur_sub=ur.loc[ur.index.isin(u.index)]\n",
    "u_sub=u.loc[u.index.isin(ur.index)]\n",
    "ug_sub=ug.loc[u.index.isin(ur.index)]\n",
    "\n",
    "# Extract overlapping temp \n",
    "tr_sub=tr.loc[tr.index.isin(t.index)]\n",
    "t_sub=t.loc[u.index.isin(tr.index)]\n",
    "\n",
    "# Extract overlapping pressure\n",
    "pr_sub=pr.loc[pr.index.isin(p.index)]\n",
    "p_sub=p.loc[p.index.isin(pr.index)]\n",
    "\n",
    "# Quickly check the mean threshold for dangerous inds at the summit\n",
    "uc2=CRIT_U(pr2,tr2); print(\"Mean summit threshold = %.2f\" % np.mean(uc2))"
   ]
  }
 ],
 "metadata": {
  "kernelspec": {
   "display_name": "Python 2",
   "language": "python",
   "name": "python2"
  },
  "language_info": {
   "codemirror_mode": {
    "name": "ipython",
    "version": 2
   },
   "file_extension": ".py",
   "mimetype": "text/x-python",
   "name": "python",
   "nbconvert_exporter": "python",
   "pygments_lexer": "ipython2",
   "version": "2.7.15"
  }
 },
 "nbformat": 4,
 "nbformat_minor": 2
}
